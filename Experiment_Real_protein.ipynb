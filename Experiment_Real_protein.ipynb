{
 "cells": [
  {
   "cell_type": "code",
   "execution_count": 1,
   "metadata": {},
   "outputs": [],
   "source": [
    "import pandas as pd\n",
    "import numpy as np"
   ]
  },
  {
   "cell_type": "code",
   "execution_count": 2,
   "metadata": {},
   "outputs": [
    {
     "name": "stderr",
     "output_type": "stream",
     "text": [
      "C:\\Users\\Ricardo Wu\\AppData\\Local\\Temp\\ipykernel_12436\\2588833736.py:2: DtypeWarning: Columns (0) have mixed types. Specify dtype option on import or set low_memory=False.\n",
      "  afp = pd.read_csv(r\"C:\\Users\\Ricardo Wu\\Desktop\\RPCP\\ad_Non-AFP11.csv\").to_numpy().T[1:].T\n"
     ]
    },
    {
     "name": "stdout",
     "output_type": "stream",
     "text": [
      "(481, 1741) (9190, 1741)\n"
     ]
    }
   ],
   "source": [
    "non_afp = pd.read_csv(r\"dataset\\ad_AFP11.csv\").to_numpy().T[1:].T\n",
    "afp = pd.read_csv(r\"dataset\\UNSW_NB15_traintest_backdoor.csv\").to_numpy().T[1:].T\n",
    "print(non_afp.shape,afp.shape)"
   ]
  },
  {
   "cell_type": "code",
   "execution_count": 3,
   "metadata": {},
   "outputs": [],
   "source": [
    "from RPCP import RPEnsemble_CP\n",
    "from Base_classify import base\n",
    "from Aggregate import AggregatedCP"
   ]
  },
  {
   "cell_type": "code",
   "execution_count": 4,
   "metadata": {},
   "outputs": [
    {
     "name": "stdout",
     "output_type": "stream",
     "text": [
      "exp: 1 start:\n",
      "(0.7175, 0.975, 1.7974358974358975)\n",
      "RPECP completed\n",
      "0.7675\n",
      "Base completed\n",
      "ICP completed\n",
      "CCP with 2 folds\n",
      "CCP completed\n",
      "BCP completed\n",
      "---------------------------------------\n",
      "\n",
      "exp: 2 start:\n",
      "(0.7275, 0.9575, 1.783289817232376)\n",
      "RPECP completed\n",
      "0.755\n",
      "Base completed\n",
      "ICP completed\n",
      "CCP with 2 folds\n",
      "CCP completed\n",
      "BCP completed\n",
      "---------------------------------------\n",
      "\n",
      "exp: 3 start:\n",
      "(0.7675, 0.96, 1.7369791666666667)\n",
      "RPECP completed\n",
      "0.785\n",
      "Base completed\n",
      "ICP completed\n",
      "CCP with 2 folds\n",
      "CCP completed\n",
      "BCP completed\n",
      "---------------------------------------\n",
      "\n",
      "exp: 4 start:\n",
      "(0.725, 0.975, 1.7769230769230768)\n",
      "RPECP completed\n",
      "0.7675\n",
      "Base completed\n",
      "ICP completed\n",
      "CCP with 2 folds\n",
      "CCP completed\n",
      "BCP completed\n",
      "---------------------------------------\n",
      "\n",
      "exp: 5 start:\n",
      "(0.745, 0.96, 1.7890625)\n",
      "RPECP completed\n",
      "0.79\n",
      "Base completed\n",
      "ICP completed\n",
      "CCP with 2 folds\n",
      "CCP completed\n",
      "BCP completed\n",
      "---------------------------------------\n",
      "\n"
     ]
    }
   ],
   "source": [
    "n_exp = 5\n",
    "exp_model = \"RandomForest\"\n",
    "alpha = 0.05\n",
    "base_acc = []\n",
    "rpecp_acc, rpecp_coverage, rpecp_length = [], [], [] \n",
    "icp_acc, icp_coverage, icp_length = [], [], []\n",
    "ccp_acc, ccp_coverage, ccp_length = [], [], [] \n",
    "bcp_acc, bcp_coverage, bcp_length = [], [], [] \n",
    "\n",
    "for exp in range(n_exp):\n",
    "    print(\"exp:\", exp+1, \"start:\")\n",
    "    np.random.seed(2024+exp)\n",
    "    # shuffle_1 = np.random.permutation(np.arange(len(non_afp)))\n",
    "    # shuffle_2 = np.random.permutation(np.arange(len(afp)))\n",
    "    # non_afp = non_afp[shuffle_1]\n",
    "    # afp = afp[shuffle_2]\n",
    "    \n",
    "\n",
    "    X_train = np.vstack((non_afp[exp:200+exp],afp[exp:200+exp])),np.concatenate((np.repeat(0,200),np.repeat(1,200)))\n",
    "    X_test = np.vstack((non_afp[200+exp:400+exp],afp[200+exp:400+exp])), np.concatenate((np.repeat(0,200),np.repeat(1,200)))\n",
    "\n",
    "    rpecp = RPEnsemble_CP(rp=\"Gaussian\", d = 300, B1=20, B2=50, classifier=exp_model, alpha=alpha)\n",
    "    rpecp_res = rpecp.RP_Conformal(X_train, X_test)\n",
    "    rpecp_acc.append(rpecp_res[0])\n",
    "    rpecp_coverage.append(rpecp_res[1])\n",
    "    rpecp_length.append(rpecp_res[2])\n",
    "    print(rpecp_res)\n",
    "    print(\"RPECP completed\")\n",
    "\n",
    "    base_classifier = base(classifier = exp_model, random_state=321)\n",
    "    base_res = base_classifier.predict(X_train, X_test)\n",
    "    base_acc.append(base_res)\n",
    "    print(base_res)\n",
    "    print(\"Base completed\")\n",
    "\n",
    "    ICPredictor = AggregatedCP(classifier=exp_model, alpha=alpha, mode=\"ICP\")\n",
    "    icp_res = ICPredictor.predict(X_train, X_test)\n",
    "    icp_acc.append(icp_res[0])\n",
    "    icp_coverage.append(icp_res[1])\n",
    "    icp_length.append(icp_res[2])\n",
    "    print(\"ICP completed\")\n",
    "\n",
    "    CCPredictor = AggregatedCP(classifier=exp_model, alpha=alpha, mode=\"CCP\")\n",
    "    ccp_res = CCPredictor.predict(X_train, X_test)\n",
    "    ccp_acc.append(ccp_res[0])\n",
    "    ccp_coverage.append(ccp_res[1])\n",
    "    ccp_length.append(ccp_res[2])\n",
    "    print(\"CCP completed\")\n",
    "\n",
    "    BCPredictor = AggregatedCP(classifier=exp_model, alpha=alpha, mode=\"BCP\")\n",
    "    bcp_res = BCPredictor.predict(X_train, X_test)\n",
    "    bcp_acc.append(bcp_res[0])\n",
    "    bcp_coverage.append(bcp_res[1])\n",
    "    bcp_length.append(bcp_res[2])\n",
    "    print(\"BCP completed\")\n",
    "\n",
    "    print(\"---------------------------------------\\n\")"
   ]
  },
  {
   "cell_type": "code",
   "execution_count": 5,
   "metadata": {},
   "outputs": [
    {
     "name": "stdout",
     "output_type": "stream",
     "text": [
      "base acc: 0.773 0.012786711852544442\n",
      "-----------------------------------------------------\n",
      "RPECP acc: 0.7365 0.017930421077041087\n",
      "RPECP coverage: 0.9655000000000001 0.00781024967590665\n",
      "RPECP length: 1.7767380916516031 0.02099534066890374\n",
      "-----------------------------------------------------\n",
      "ICP acc: 0.033 0.017986105748604948\n",
      "ICP coverage: 0.9984999999999999 0.0029999999999999805\n",
      "ICP length: 1.9669433249370276 0.01800063676145381\n",
      "-----------------------------------------------------\n",
      "CCP acc: 0.008 0.004\n",
      "CCP coverage: 0.999 0.001224744871391563\n",
      "CCP length: 1.9919924812030074 0.004000639078098578\n",
      "-----------------------------------------------------\n",
      "BCP acc: 0.022 0.016077935190813526\n",
      "BCP coverage: 1.0 0.0\n",
      "BCP length: 1.9779999999999998 0.01607793519081355\n"
     ]
    }
   ],
   "source": [
    "print(\"base acc:\", np.mean(base_acc), np.std(base_acc))\n",
    "print(\"-----------------------------------------------------\")\n",
    "print(\"RPECP acc:\", np.mean(rpecp_acc), np.std(rpecp_acc))\n",
    "print(\"RPECP coverage:\", np.mean(rpecp_coverage), np.std(rpecp_coverage))\n",
    "print(\"RPECP length:\", np.mean(rpecp_length), np.std(rpecp_length))\n",
    "print(\"-----------------------------------------------------\")\n",
    "print(\"ICP acc:\", np.mean(icp_acc), np.std(icp_acc))\n",
    "print(\"ICP coverage:\", np.mean(icp_coverage), np.std(icp_coverage))\n",
    "print(\"ICP length:\", np.mean(icp_length), np.std(icp_length))\n",
    "print(\"-----------------------------------------------------\")\n",
    "print(\"CCP acc:\", np.mean(ccp_acc), np.std(ccp_acc))\n",
    "print(\"CCP coverage:\", np.mean(ccp_coverage), np.std(ccp_coverage))\n",
    "print(\"CCP length:\", np.mean(ccp_length), np.std(ccp_length))\n",
    "print(\"-----------------------------------------------------\")\n",
    "print(\"BCP acc:\", np.mean(bcp_acc), np.std(bcp_acc))\n",
    "print(\"BCP coverage:\", np.mean(bcp_coverage), np.std(bcp_coverage))\n",
    "print(\"BCP length:\", np.mean(bcp_length), np.std(bcp_length))"
   ]
  }
 ],
 "metadata": {
  "kernelspec": {
   "display_name": "qxy",
   "language": "python",
   "name": "python3"
  },
  "language_info": {
   "codemirror_mode": {
    "name": "ipython",
    "version": 3
   },
   "file_extension": ".py",
   "mimetype": "text/x-python",
   "name": "python",
   "nbconvert_exporter": "python",
   "pygments_lexer": "ipython3",
   "version": "3.10.9"
  },
  "orig_nbformat": 4
 },
 "nbformat": 4,
 "nbformat_minor": 2
}
