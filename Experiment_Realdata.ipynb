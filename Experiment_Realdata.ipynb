{
 "cells": [
  {
   "cell_type": "code",
   "execution_count": 1,
   "metadata": {},
   "outputs": [],
   "source": [
    "import pandas as pd\n",
    "import numpy as np"
   ]
  },
  {
   "cell_type": "markdown",
   "metadata": {},
   "source": [
    "### Backdoor dataset (Optional)"
   ]
  },
  {
   "cell_type": "code",
   "execution_count": 3,
   "metadata": {},
   "outputs": [
    {
     "name": "stdout",
     "output_type": "stream",
     "text": [
      "93000 2329\n"
     ]
    }
   ],
   "source": [
    "bd = pd.read_csv(r\"dataset\\UNSW_NB15_traintest_backdoor.csv\").to_numpy()\n",
    "X_in1, X_in2 = [], []\n",
    "for d in bd:\n",
    "    if d[-1]==0:\n",
    "        X_in1.append(d[:-1])\n",
    "    else:\n",
    "        X_in2.append(d[:-1])\n",
    "X_in1, X_in2 = np.array(X_in1), np.array(X_in2)\n",
    "print(X_in1.shape, X_in2.shape)"
   ]
  },
  {
   "cell_type": "markdown",
   "metadata": {},
   "source": [
    "### Anti-Frozen Protein dataset (Optional)"
   ]
  },
  {
   "cell_type": "code",
   "execution_count": null,
   "metadata": {},
   "outputs": [],
   "source": [
    "X_in1 = pd.read_csv(r\"dataset\\ad_AFP11.csv\").to_numpy().T[1:].T\n",
    "X_in2 = pd.read_csv(r\"dataset\\UNSW_NB15_traintest_backdoor.csv\").to_numpy().T[1:].T\n",
    "print(X_in1.shape, X_in2.shape)"
   ]
  },
  {
   "cell_type": "markdown",
   "metadata": {},
   "source": [
    "### Classification"
   ]
  },
  {
   "cell_type": "code",
   "execution_count": 4,
   "metadata": {},
   "outputs": [],
   "source": [
    "from RPCP import RPEnsemble_CP\n",
    "from Base_classify import base\n",
    "from Aggregate import AggregatedCP"
   ]
  },
  {
   "cell_type": "code",
   "execution_count": 5,
   "metadata": {},
   "outputs": [
    {
     "name": "stdout",
     "output_type": "stream",
     "text": [
      "exp: 1 start:\n",
      "(0.948, 0.959, 1.0312825860271115)\n",
      "RPECP completed\n",
      "0.937\n",
      "Base completed\n",
      "ICP completed\n",
      "CCP with 10 folds\n",
      "CCP completed\n",
      "BCP completed\n",
      "---------------------------------------\n",
      "\n",
      "exp: 2 start:\n",
      "(0.949, 0.969, 1.0371517027863777)\n",
      "RPECP completed\n",
      "0.937\n",
      "Base completed\n",
      "ICP completed\n",
      "CCP with 10 folds\n",
      "CCP completed\n",
      "BCP completed\n",
      "---------------------------------------\n",
      "\n",
      "exp: 3 start:\n",
      "(0.95, 0.955, 1.012565445026178)\n",
      "RPECP completed\n",
      "0.937\n",
      "Base completed\n",
      "ICP completed\n",
      "CCP with 10 folds\n",
      "CCP completed\n",
      "BCP completed\n",
      "---------------------------------------\n",
      "\n",
      "exp: 4 start:\n",
      "(0.95, 0.957, 1.0240334378265412)\n",
      "RPECP completed\n",
      "0.937\n",
      "Base completed\n",
      "ICP completed\n",
      "CCP with 10 folds\n",
      "CCP completed\n",
      "BCP completed\n",
      "---------------------------------------\n",
      "\n",
      "exp: 5 start:\n",
      "(0.948, 0.95, 1.0157894736842106)\n",
      "RPECP completed\n",
      "0.937\n",
      "Base completed\n",
      "ICP completed\n",
      "CCP with 10 folds\n",
      "CCP completed\n",
      "BCP completed\n",
      "---------------------------------------\n",
      "\n"
     ]
    }
   ],
   "source": [
    "n_exp = 5\n",
    "exp_model = \"KNN\"\n",
    "alpha = 0.05\n",
    "base_acc = []\n",
    "rpecp_acc, rpecp_coverage, rpecp_length = [], [], [] \n",
    "icp_acc, icp_coverage, icp_length = [], [], []\n",
    "ccp_acc, ccp_coverage, ccp_length = [], [], [] \n",
    "bcp_acc, bcp_coverage, bcp_length = [], [], [] \n",
    "\n",
    "for exp in range(n_exp):\n",
    "    print(\"exp:\", exp+1, \"start:\")\n",
    "    np.random.seed(2024+exp)\n",
    "    # shuffle_1 = np.random.permutation(np.arange(len(X_in1)))\n",
    "    # shuffle_2 = np.random.permutation(np.arange(len(X_in2)))\n",
    "    # X_in1 = X_in1[shuffle_1]\n",
    "    # X_in1 = X_in1[shuffle_2]\n",
    "    \n",
    "    # Backdoor\n",
    "    X_train = np.vstack((X_in1[exp:500+exp],X_in2[exp:500+exp])),np.concatenate((np.repeat(0,500),np.repeat(1,500)))\n",
    "    X_test = np.vstack((X_in1[exp:500+exp],X_in2[500+exp:1000+exp])), np.concatenate((np.repeat(0,500),np.repeat(1,500)))\n",
    "\n",
    "    # Anti-Frozen Protein\n",
    "    \"\"\" X_train = np.vstack((X_in1[exp:200+exp], X_in2[exp:200+exp])),np.concatenate((np.repeat(0,200),np.repeat(1,200)))\n",
    "    X_test = np.vstack((X_in1[200+exp:400+exp], X_in2[200+exp:400+exp])), np.concatenate((np.repeat(0,200),np.repeat(1,200))) \"\"\"\n",
    "\n",
    "    rpecp = RPEnsemble_CP(rp=\"axis\", d = 10, B1=20, B2=50, classifier=exp_model, alpha=alpha)\n",
    "    rpecp_res = rpecp.RP_Conformal(X_train, X_test)\n",
    "    rpecp_acc.append(rpecp_res[0])\n",
    "    rpecp_coverage.append(rpecp_res[1])\n",
    "    rpecp_length.append(rpecp_res[2])\n",
    "    print(rpecp_res)\n",
    "    print(\"RPECP completed\")\n",
    "\n",
    "    base_classifier = base(classifier = exp_model,random_state=2024+exp)\n",
    "    base_res = base_classifier.predict(X_train, X_test)\n",
    "    base_acc.append(base_res)\n",
    "    print(base_res)\n",
    "    print(\"Base completed\")\n",
    "\n",
    "    ICPredictor = AggregatedCP(classifier=exp_model, alpha=alpha, mode=\"ICP\")\n",
    "    icp_res = ICPredictor.predict(X_train, X_test)\n",
    "    icp_acc.append(icp_res[0])\n",
    "    icp_coverage.append(icp_res[1])\n",
    "    icp_length.append(icp_res[2])\n",
    "    print(\"ICP completed\")\n",
    "\n",
    "\n",
    "    CCPredictor = AggregatedCP(classifier=exp_model, alpha=alpha, mode=\"CCP\")\n",
    "    ccp_res = CCPredictor.predict(X_train, X_test)\n",
    "    ccp_acc.append(ccp_res[0])\n",
    "    ccp_coverage.append(ccp_res[1])\n",
    "    ccp_length.append(ccp_res[2])\n",
    "    print(\"CCP completed\")\n",
    "\n",
    "    BCPredictor = AggregatedCP(classifier=exp_model, alpha=alpha, mode=\"BCP\")\n",
    "    bcp_res = BCPredictor.predict(X_train, X_test)\n",
    "    bcp_acc.append(bcp_res[0])\n",
    "    bcp_coverage.append(bcp_res[1])\n",
    "    bcp_length.append(bcp_res[2])\n",
    "    print(\"BCP completed\")\n",
    "\n",
    "    print(\"---------------------------------------\\n\")"
   ]
  },
  {
   "cell_type": "code",
   "execution_count": 6,
   "metadata": {},
   "outputs": [
    {
     "name": "stdout",
     "output_type": "stream",
     "text": [
      "base acc: 0.937 0.0\n",
      "-----------------------------------------------------\n",
      "RPECP acc: 0.9489999999999998 0.0008944271909999167\n",
      "RPECP coverage: 0.958 0.006260990336999417\n",
      "RPECP length: 1.024164529070084 0.009209027139376363\n",
      "-----------------------------------------------------\n",
      "ICP acc: 0.8583999999999999 0.0048414873747640854\n",
      "ICP coverage: 0.9879999999999999 0.001095445115010333\n",
      "ICP length: 1.1311680956212136 0.005795123082569617\n",
      "-----------------------------------------------------\n",
      "CCP acc: 0.6272 0.036328501207729444\n",
      "CCP coverage: 1.0 0.0\n",
      "CCP length: 1.3728000000000002 0.03632850120772944\n",
      "-----------------------------------------------------\n",
      "BCP acc: 0.8930000000000001 0.008438009243891603\n",
      "BCP coverage: 0.9814 0.0062481997407253295\n",
      "BCP length: 1.0900040114630607 0.013039078614039941\n"
     ]
    }
   ],
   "source": [
    "print(\"base acc:\", np.mean(base_acc), np.std(base_acc))\n",
    "print(\"-----------------------------------------------------\")\n",
    "print(\"RPECP acc:\", np.mean(rpecp_acc), np.std(rpecp_acc))\n",
    "print(\"RPECP coverage:\", np.mean(rpecp_coverage), np.std(rpecp_coverage))\n",
    "print(\"RPECP length:\", np.mean(rpecp_length), np.std(rpecp_length))\n",
    "print(\"-----------------------------------------------------\")\n",
    "print(\"ICP acc:\", np.mean(icp_acc), np.std(icp_acc))\n",
    "print(\"ICP coverage:\", np.mean(icp_coverage), np.std(icp_coverage))\n",
    "print(\"ICP length:\", np.mean(icp_length), np.std(icp_length))\n",
    "print(\"-----------------------------------------------------\")\n",
    "print(\"CCP acc:\", np.mean(ccp_acc), np.std(ccp_acc))\n",
    "print(\"CCP coverage:\", np.mean(ccp_coverage), np.std(ccp_coverage))\n",
    "print(\"CCP length:\", np.mean(ccp_length), np.std(ccp_length))\n",
    "print(\"-----------------------------------------------------\")\n",
    "print(\"BCP acc:\", np.mean(bcp_acc), np.std(bcp_acc))\n",
    "print(\"BCP coverage:\", np.mean(bcp_coverage), np.std(bcp_coverage))\n",
    "print(\"BCP length:\", np.mean(bcp_length), np.std(bcp_length))"
   ]
  }
 ],
 "metadata": {
  "kernelspec": {
   "display_name": "qxy",
   "language": "python",
   "name": "python3"
  },
  "language_info": {
   "codemirror_mode": {
    "name": "ipython",
    "version": 3
   },
   "file_extension": ".py",
   "mimetype": "text/x-python",
   "name": "python",
   "nbconvert_exporter": "python",
   "pygments_lexer": "ipython3",
   "version": "3.10.9"
  },
  "orig_nbformat": 4
 },
 "nbformat": 4,
 "nbformat_minor": 2
}
